{
 "cells": [
  {
   "cell_type": "markdown",
   "metadata": {},
   "source": [
    "# This is the sample code for chapter 3\n",
    "This chapter focus on simply creating a binary or multiclass classifier. The following code is my solution to the exercises."
   ]
  },
  {
   "cell_type": "markdown",
   "metadata": {},
   "source": [
    "## Exercise 1: Create a k-neighbour classifier for MNIST\n",
    "Requirement: over 97% precision on MNIST. KNeighborsClassifier is effective. Try search for the best parameters."
   ]
  },
  {
   "cell_type": "code",
   "execution_count": null,
   "metadata": {},
   "outputs": [],
   "source": [
    "## Load dataset\n",
    "import scipy.io as sio\n",
    "import numpy as np\n",
    "\n",
    "mnist = sio.loadmat(\"mnist/mnist-original.mat\")\n",
    "X, y = mnist[\"data\"], mnist[\"label\"]\n",
    "X_train, X_test = X[:, :60000], X[:, 60000:]\n",
    "y_train, y_test = y[:, :60000], y[:, 60000:]\n",
    "\n",
    "X_train = np.transpose(X_train)\n",
    "X_test = np.transpose(X_test)\n",
    "y_train = np.transpose(y_train)[:, 0]\n",
    "y_test = np.transpose(y_test)[:, 0]"
   ]
  },
  {
   "cell_type": "code",
   "execution_count": null,
   "metadata": {},
   "outputs": [],
   "source": [
    "print(X_train.shape)\n",
    "print(y_train.shape)\n",
    "print(X_test.shape)\n",
    "print(y_test.shape)"
   ]
  },
  {
   "cell_type": "code",
   "execution_count": null,
   "metadata": {},
   "outputs": [],
   "source": [
    "# have a look at the digit\n",
    "%matplotlib inline\n",
    "import matplotlib\n",
    "import matplotlib.pyplot as plt\n",
    "some_digit = X[:, 36000]\n",
    "some_digit_image = some_digit.reshape((28,28))\n",
    "plt.imshow(some_digit_image, cmap='binary', interpolation='nearest')\n",
    "plt.axis('off')\n",
    "plt.show()\n",
    "y[0, 36000]"
   ]
  },
  {
   "cell_type": "code",
   "execution_count": null,
   "metadata": {},
   "outputs": [],
   "source": [
    "# create a classifier to do classification\n",
    "from sklearn.neighbors import KNeighborsClassifier\n",
    "knc = KNeighborsClassifier(weights=\"distance\", n_neighbors=6)\n",
    "knc.fit(X_train, y_train)\n",
    "y_pred = knc.predict(X_test)\n",
    "\n",
    "# # create grid search to find the best parameters within search field\n",
    "# from sklearn.model_selection import GridSearchCV\n",
    "# param_grid = [\n",
    "#     {\"weights\": [\"uniform\", \"distance\"]},\n",
    "#     {\"n_neighbors\": [6, 7, 8, 9, 10, 11, 12]}\n",
    "# ]\n",
    "# grid_search = GridSearchCV(knc, param_grid, cv=5, scoring=\"neg_mean_squared_error\")\n",
    "# grid_search.fit(X_train, y_train)\n",
    "# weights = grid_search.best_param_[\"weights\"]\n",
    "# n_neighbors = grid_search.best_param_[\"n_neighbors\"]\n",
    "\n",
    "# best_knc= grid_search.best_estimator_\n",
    "# best_knc.fit(X_train, y_train)\n",
    "# y_pred = best_knc.predict(X_test)"
   ]
  },
  {
   "cell_type": "code",
   "execution_count": null,
   "metadata": {},
   "outputs": [],
   "source": [
    "# evaluate the precision of the model\n",
    "from sklearn.metrics import precision_score\n",
    "precision_score(y_test, y_pred, average=\"micro\")"
   ]
  },
  {
   "cell_type": "markdown",
   "metadata": {},
   "source": [
    "## Exercise 2: Train set augmentation\n",
    "Requirement: write a function that moves the digit one pixel up, down, left and right. Use the augmented dataset to train the model again."
   ]
  },
  {
   "cell_type": "code",
   "execution_count": null,
   "metadata": {},
   "outputs": [],
   "source": [
    "from scipy.ndimage import shift\n",
    "\n",
    "class DirectionError(Exception):\n",
    "    pass\n",
    "\n",
    "def move_image(input_image, direction):\n",
    "    if direction not in [\"up\", \"down\", \"left\", \"right\"]:\n",
    "        raise DirectionError(\"Invalid direction \" + direction + \", only **'up, down, left, right'** are allowed.\")\n",
    "    else:\n",
    "        image = input_image.reshape((28, 28))\n",
    "        if direction == \"up\":\n",
    "            result = shift(image, [-1, 0], cval=0)\n",
    "        elif direction == \"down\":\n",
    "            result = shift(image, [11, 0], cval=0)\n",
    "        elif direction == \"left\":\n",
    "            result = shift(image, [0, -1], cval=0)\n",
    "        elif direction == \"right\":\n",
    "            result = shift(image, [0, 1], cval=0)\n",
    "        \n",
    "        result = result.reshape(784)\n",
    "        return result"
   ]
  },
  {
   "cell_type": "code",
   "execution_count": null,
   "metadata": {},
   "outputs": [],
   "source": [
    "# Now use the function to augment train set. Reuse the code cell above.\n",
    "new_X_train = []\n",
    "new_y_train = []\n",
    "\n",
    "for index in range(len(X_train)):\n",
    "    pic = X_train[index]\n",
    "    label = y_train[index]\n",
    "    \n",
    "    new_X_train.append(pic)\n",
    "    new_X_train.append(move_image(pic, \"up\"))\n",
    "    new_X_train.append(move_image(pic, \"down\"))\n",
    "    new_X_train.append(move_image(pic, \"left\"))\n",
    "    new_X_train.append(move_image(pic, \"right\"))\n",
    "    for i in range(5):\n",
    "        new_y_train.append(label)\n",
    "\n",
    "new_X_train = np.array(new_X_train)\n",
    "new_y_train = np.array(new_y_train)\n",
    "new_X_train.shape, new_y_train.shape"
   ]
  },
  {
   "cell_type": "code",
   "execution_count": null,
   "metadata": {},
   "outputs": [],
   "source": [
    "# Train on the augmented dataset\n",
    "from sklearn.neighbors import KNeighborsClassifier\n",
    "knc = KNeighborsClassifier(weights=\"distance\", n_neighbors=6)\n",
    "knc.fit(new_X_train, new_y_train)\n",
    "y_pred = knc.predict(X_test)"
   ]
  },
  {
   "cell_type": "code",
   "execution_count": null,
   "metadata": {},
   "outputs": [],
   "source": [
    "# evaluate the precision of the model\n",
    "from sklearn.metrics import precision_score\n",
    "precision_score(y_test, y_pred, average=\"micro\")"
   ]
  },
  {
   "cell_type": "markdown",
   "metadata": {},
   "source": [
    "## Exercise 3: Deal with Titanic dataset on Kaggle"
   ]
  },
  {
   "cell_type": "markdown",
   "metadata": {},
   "source": [
    "First use pandas to load .csv file"
   ]
  },
  {
   "cell_type": "code",
   "execution_count": 1,
   "metadata": {},
   "outputs": [],
   "source": [
    "# load Titanic dataset\n",
    "import pandas as pd\n",
    "train_set = pd.read_csv(\"titanic/train.csv\")\n",
    "# train_set.head()"
   ]
  },
  {
   "cell_type": "markdown",
   "metadata": {},
   "source": [
    "Before training the model, we need to preprocess the data."
   ]
  },
  {
   "cell_type": "code",
   "execution_count": 2,
   "metadata": {},
   "outputs": [],
   "source": [
    "# one hot encoder for Sex, Embarked\n",
    "\n",
    "from sklearn.preprocessing import LabelEncoder\n",
    "\n",
    "def my_encoder(input_data, tag):\n",
    "    if tag not in [\"Sex\", \"Embarked\"]:\n",
    "        raise NameError(\"Invalid tag!\")\n",
    "    else:\n",
    "        encoder = LabelEncoder()\n",
    "        my_result = input_data\n",
    "        tmp_result = encoder.fit_transform(my_result[tag])\n",
    "        my_result[tag] = tmp_result\n",
    "        return my_result"
   ]
  },
  {
   "cell_type": "code",
   "execution_count": 3,
   "metadata": {},
   "outputs": [],
   "source": [
    "# write a convenient function to complete preprocessing\n",
    "def preprocess_data(input_data, is_train):\n",
    "    result = input_data\n",
    "    # drop Cabin, PassengerID, Name, Ticket\n",
    "    result = result.drop([\"PassengerId\"], axis=1)\n",
    "    result = result.drop([\"Name\"], axis=1)\n",
    "    result = result.drop([\"Cabin\"], axis=1)\n",
    "    result = result.drop([\"Ticket\"], axis=1)\n",
    "    # fill NaN value for Age and Embarked.\n",
    "    result[\"Age\"] = result[\"Age\"].fillna(0)\n",
    "    result[\"Embarked\"] = result[\"Embarked\"].fillna(\"N\")\n",
    "    result[\"Fare\"] = result[\"Fare\"].fillna(0.0)\n",
    "    # encode\n",
    "    result = my_encoder(result, \"Sex\")\n",
    "    result = my_encoder(result, \"Embarked\")\n",
    "    if is_train:\n",
    "        data, label = result.drop([\"Survived\"], axis=1), result[\"Survived\"]\n",
    "        data = data.values\n",
    "        label = label.values\n",
    "        return data, label\n",
    "    else:\n",
    "        data = result\n",
    "        data = data.values\n",
    "        return data"
   ]
  },
  {
   "cell_type": "markdown",
   "metadata": {},
   "source": [
    "When all data are processed, we can train the model. Here I use RandomForestClassifier."
   ]
  },
  {
   "cell_type": "code",
   "execution_count": 4,
   "metadata": {},
   "outputs": [
    {
     "name": "stdout",
     "output_type": "stream",
     "text": [
      "Validation precision:  0.7850461133069829\n",
      "Validation precision:  0.8005270092226614\n",
      "Validation precision:  0.7966577540106954\n",
      "Validation precision:  0.7451871657754011\n",
      "Validation precision:  0.8052482460874258\n"
     ]
    },
    {
     "name": "stderr",
     "output_type": "stream",
     "text": [
      "/Users/Antinomy/.pyenv/versions/3.6.5/envs/learningTensorflow/lib/python3.6/site-packages/sklearn/ensemble/forest.py:246: FutureWarning: The default value of n_estimators will change from 10 in version 0.20 to 100 in 0.22.\n",
      "  \"10 in version 0.20 to 100 in 0.22.\", FutureWarning)\n",
      "/Users/Antinomy/.pyenv/versions/3.6.5/envs/learningTensorflow/lib/python3.6/site-packages/sklearn/ensemble/forest.py:246: FutureWarning: The default value of n_estimators will change from 10 in version 0.20 to 100 in 0.22.\n",
      "  \"10 in version 0.20 to 100 in 0.22.\", FutureWarning)\n",
      "/Users/Antinomy/.pyenv/versions/3.6.5/envs/learningTensorflow/lib/python3.6/site-packages/sklearn/ensemble/forest.py:246: FutureWarning: The default value of n_estimators will change from 10 in version 0.20 to 100 in 0.22.\n",
      "  \"10 in version 0.20 to 100 in 0.22.\", FutureWarning)\n",
      "/Users/Antinomy/.pyenv/versions/3.6.5/envs/learningTensorflow/lib/python3.6/site-packages/sklearn/ensemble/forest.py:246: FutureWarning: The default value of n_estimators will change from 10 in version 0.20 to 100 in 0.22.\n",
      "  \"10 in version 0.20 to 100 in 0.22.\", FutureWarning)\n",
      "/Users/Antinomy/.pyenv/versions/3.6.5/envs/learningTensorflow/lib/python3.6/site-packages/sklearn/ensemble/forest.py:246: FutureWarning: The default value of n_estimators will change from 10 in version 0.20 to 100 in 0.22.\n",
      "  \"10 in version 0.20 to 100 in 0.22.\", FutureWarning)\n",
      "/Users/Antinomy/.pyenv/versions/3.6.5/envs/learningTensorflow/lib/python3.6/site-packages/sklearn/ensemble/forest.py:246: FutureWarning: The default value of n_estimators will change from 10 in version 0.20 to 100 in 0.22.\n",
      "  \"10 in version 0.20 to 100 in 0.22.\", FutureWarning)\n"
     ]
    },
    {
     "data": {
      "text/plain": [
       "RandomForestClassifier(bootstrap=True, class_weight=None, criterion='gini',\n",
       "            max_depth=None, max_features='auto', max_leaf_nodes=None,\n",
       "            min_impurity_decrease=0.0, min_impurity_split=None,\n",
       "            min_samples_leaf=1, min_samples_split=2,\n",
       "            min_weight_fraction_leaf=0.0, n_estimators=10, n_jobs=None,\n",
       "            oob_score=False, random_state=None, verbose=0,\n",
       "            warm_start=False)"
      ]
     },
     "execution_count": 4,
     "metadata": {},
     "output_type": "execute_result"
    }
   ],
   "source": [
    "# create a RandomForestClassifier and k_fold evaluation\n",
    "from sklearn.ensemble import RandomForestClassifier\n",
    "from sklearn.base import clone\n",
    "from sklearn.model_selection import StratifiedKFold\n",
    "from sklearn.metrics import roc_auc_score\n",
    "\n",
    "X_train, y_train = preprocess_data(train_set, is_train=True)\n",
    "\n",
    "skfolds = StratifiedKFold(n_splits=5, random_state=42)\n",
    "\n",
    "model = RandomForestClassifier()\n",
    "\n",
    "for train_index, val_index in skfolds.split(X_train, y_train):\n",
    "    X_train_fold = X_train[train_index]\n",
    "    y_train_fold = y_train[train_index]\n",
    "    \n",
    "    X_val_fold = X_train[val_index]\n",
    "    y_val_fold = y_train[val_index]\n",
    "    \n",
    "    sgd_clf = clone(model)\n",
    "    sgd_clf.fit(X_train_fold, y_train_fold)\n",
    "    \n",
    "    y_pred = sgd_clf.predict(X_val_fold)\n",
    "    print(\"Validation precision: \", roc_auc_score(y_val_fold, y_pred))\n",
    "    \n",
    "model.fit(X_train, y_train)"
   ]
  },
  {
   "cell_type": "markdown",
   "metadata": {},
   "source": [
    "Finally make predictions with the model on test set and save it as required."
   ]
  },
  {
   "cell_type": "code",
   "execution_count": 6,
   "metadata": {},
   "outputs": [],
   "source": [
    "# evaluate the model on test set\n",
    "test_set = pd.read_csv(\"titanic/test.csv\")\n",
    "X_test = preprocess_data(test_set, is_train=False)\n",
    "predictions = model.predict(X_test)\n",
    "passenger_id = test_set[\"PassengerId\"]\n",
    "passenger_id = passenger_id.values\n",
    "# write to .csv file\n",
    "import csv\n",
    "with open(\"my_submission.csv\", \"w\") as csvfile:\n",
    "    csv_writer = csv.writer(csvfile)\n",
    "    csv_head = [\"PassengerId\", \"Survived\"]\n",
    "    csv_writer.writerow(csv_head)\n",
    "    for i in range(len(predictions)):\n",
    "        content = [passenger_id[i], predictions[i]]\n",
    "        csv_writer.writerow(content)"
   ]
  },
  {
   "cell_type": "markdown",
   "metadata": {},
   "source": [
    "Now submit on Kaggle and see how the model performs!"
   ]
  },
  {
   "cell_type": "markdown",
   "metadata": {},
   "source": [
    "## Exercise 4: Create a spam mail classifier"
   ]
  },
  {
   "cell_type": "code",
   "execution_count": null,
   "metadata": {},
   "outputs": [],
   "source": []
  },
  {
   "cell_type": "code",
   "execution_count": null,
   "metadata": {},
   "outputs": [],
   "source": []
  },
  {
   "cell_type": "code",
   "execution_count": null,
   "metadata": {},
   "outputs": [],
   "source": []
  }
 ],
 "metadata": {
  "kernelspec": {
   "display_name": "Python 3",
   "language": "python",
   "name": "python3"
  },
  "language_info": {
   "codemirror_mode": {
    "name": "ipython",
    "version": 3
   },
   "file_extension": ".py",
   "mimetype": "text/x-python",
   "name": "python",
   "nbconvert_exporter": "python",
   "pygments_lexer": "ipython3",
   "version": "3.6.5"
  }
 },
 "nbformat": 4,
 "nbformat_minor": 2
}
